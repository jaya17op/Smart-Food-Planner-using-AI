{
 "cells": [
  {
   "cell_type": "code",
   "execution_count": 1,
   "id": "80198c4e-5fa0-4da7-b26e-cde47d7653c8",
   "metadata": {},
   "outputs": [],
   "source": [
    "import pandas as pd\n",
    "import matplotlib.pyplot as plt\n",
    "import seaborn as sns\n",
    "sns.set(style='whitegrid')"
   ]
  },
  {
   "cell_type": "code",
   "execution_count": 2,
   "id": "316c7c74-1cda-4084-9387-e6802e7821d4",
   "metadata": {},
   "outputs": [
    {
     "data": {
      "text/html": [
       "<div>\n",
       "<style scoped>\n",
       "    .dataframe tbody tr th:only-of-type {\n",
       "        vertical-align: middle;\n",
       "    }\n",
       "\n",
       "    .dataframe tbody tr th {\n",
       "        vertical-align: top;\n",
       "    }\n",
       "\n",
       "    .dataframe thead th {\n",
       "        text-align: right;\n",
       "    }\n",
       "</style>\n",
       "<table border=\"1\" class=\"dataframe\">\n",
       "  <thead>\n",
       "    <tr style=\"text-align: right;\">\n",
       "      <th></th>\n",
       "      <th>user_id</th>\n",
       "      <th>age</th>\n",
       "      <th>diet_type</th>\n",
       "      <th>preferred_cuisine</th>\n",
       "      <th>allergies</th>\n",
       "      <th>past_orders</th>\n",
       "      <th>feedback_score</th>\n",
       "    </tr>\n",
       "  </thead>\n",
       "  <tbody>\n",
       "    <tr>\n",
       "      <th>0</th>\n",
       "      <td>1</td>\n",
       "      <td>32</td>\n",
       "      <td>balanced</td>\n",
       "      <td>Mexican</td>\n",
       "      <td>dairy</td>\n",
       "      <td>19</td>\n",
       "      <td>3.7</td>\n",
       "    </tr>\n",
       "    <tr>\n",
       "      <th>1</th>\n",
       "      <td>2</td>\n",
       "      <td>32</td>\n",
       "      <td>keto</td>\n",
       "      <td>Mexican</td>\n",
       "      <td>gluten</td>\n",
       "      <td>14</td>\n",
       "      <td>4.5</td>\n",
       "    </tr>\n",
       "    <tr>\n",
       "      <th>2</th>\n",
       "      <td>3</td>\n",
       "      <td>21</td>\n",
       "      <td>vegetarian</td>\n",
       "      <td>Italian</td>\n",
       "      <td>dairy</td>\n",
       "      <td>11</td>\n",
       "      <td>3.2</td>\n",
       "    </tr>\n",
       "    <tr>\n",
       "      <th>3</th>\n",
       "      <td>4</td>\n",
       "      <td>36</td>\n",
       "      <td>balanced</td>\n",
       "      <td>Indian</td>\n",
       "      <td>gluten</td>\n",
       "      <td>19</td>\n",
       "      <td>3.5</td>\n",
       "    </tr>\n",
       "    <tr>\n",
       "      <th>4</th>\n",
       "      <td>5</td>\n",
       "      <td>50</td>\n",
       "      <td>vegetarian</td>\n",
       "      <td>Italian</td>\n",
       "      <td>nuts</td>\n",
       "      <td>20</td>\n",
       "      <td>4.0</td>\n",
       "    </tr>\n",
       "  </tbody>\n",
       "</table>\n",
       "</div>"
      ],
      "text/plain": [
       "   user_id  age   diet_type preferred_cuisine allergies  past_orders  \\\n",
       "0        1   32    balanced           Mexican     dairy           19   \n",
       "1        2   32        keto           Mexican    gluten           14   \n",
       "2        3   21  vegetarian           Italian     dairy           11   \n",
       "3        4   36    balanced            Indian    gluten           19   \n",
       "4        5   50  vegetarian           Italian      nuts           20   \n",
       "\n",
       "   feedback_score  \n",
       "0             3.7  \n",
       "1             4.5  \n",
       "2             3.2  \n",
       "3             3.5  \n",
       "4             4.0  "
      ]
     },
     "execution_count": 2,
     "metadata": {},
     "output_type": "execute_result"
    }
   ],
   "source": [
    "users = pd.read_csv('users.csv')\n",
    "recipes = pd.read_csv('recipes.csv')\n",
    "recommendations = pd.read_csv('recommendations.csv')\n",
    "\n",
    "# Preview data\n",
    "users.head()"
   ]
  },
  {
   "cell_type": "code",
   "execution_count": 3,
   "id": "44ec27be-aa7b-46d4-8f0c-cbd402099dcc",
   "metadata": {},
   "outputs": [
    {
     "name": "stdout",
     "output_type": "stream",
     "text": [
      "Click-Through Rate (CTR): 61.33%\n"
     ]
    }
   ],
   "source": [
    "ctr = recommendations['clicked'].sum() / len(recommendations)\n",
    "print(f'Click-Through Rate (CTR): {ctr:.2%}')"
   ]
  },
  {
   "cell_type": "code",
   "execution_count": 4,
   "id": "b139357d-cf47-474b-b910-7dee739d4862",
   "metadata": {},
   "outputs": [
    {
     "name": "stdout",
     "output_type": "stream",
     "text": [
      "Precision: 67.93%\n"
     ]
    }
   ],
   "source": [
    "clicked_recs = recommendations[recommendations['clicked'] == 1]\n",
    "precision = clicked_recs['liked'].sum() / len(clicked_recs)\n",
    "print(f'Precision: {precision:.2%}')"
   ]
  },
  {
   "cell_type": "code",
   "execution_count": 5,
   "id": "c999b6f7-9478-441c-a988-338170c8e7c1",
   "metadata": {},
   "outputs": [
    {
     "name": "stdout",
     "output_type": "stream",
     "text": [
      "Approximate Recall: 41.67%\n"
     ]
    }
   ],
   "source": [
    "recall = recommendations['liked'].sum() / len(recommendations)\n",
    "print(f'Approximate Recall: {recall:.2%}')"
   ]
  },
  {
   "cell_type": "code",
   "execution_count": 6,
   "id": "877584b7-57fa-4b3a-a413-70c37cd8d216",
   "metadata": {},
   "outputs": [
    {
     "name": "stdout",
     "output_type": "stream",
     "text": [
      "User Feedback Score Summary:\n",
      "count    100.000000\n",
      "mean       4.000000\n",
      "std        0.513259\n",
      "min        3.000000\n",
      "25%        3.700000\n",
      "50%        4.000000\n",
      "75%        4.400000\n",
      "max        5.000000\n",
      "Name: feedback_score, dtype: float64\n"
     ]
    }
   ],
   "source": [
    "feedback_summary = users['feedback_score'].describe()\n",
    "print('User Feedback Score Summary:')\n",
    "print(feedback_summary)"
   ]
  },
  {
   "cell_type": "code",
   "execution_count": 7,
   "id": "ec0cf85b-5705-4c90-b787-7c7ca12fdb9f",
   "metadata": {},
   "outputs": [
    {
     "name": "stdout",
     "output_type": "stream",
     "text": [
      "Top Liked Recipes:\n",
      "recipe_id\n",
      "107    8\n",
      "116    7\n",
      "126    7\n",
      "110    6\n",
      "130    5\n",
      "Name: count, dtype: int64\n",
      "\n",
      "Most Engaged Users:\n",
      "user_id\n",
      "45    6\n",
      "70    5\n",
      "12    5\n",
      "25    5\n",
      "61    4\n",
      "Name: count, dtype: int64\n"
     ]
    }
   ],
   "source": [
    "top_recipes = recommendations[recommendations['liked'] == 1]['recipe_id'].value_counts().head(5)\n",
    "print('Top Liked Recipes:')\n",
    "print(top_recipes)\n",
    "\n",
    "top_users = recommendations[recommendations['clicked'] == 1]['user_id'].value_counts().head(5)\n",
    "print('\\nMost Engaged Users:')\n",
    "print(top_users)"
   ]
  },
  {
   "cell_type": "code",
   "execution_count": 8,
   "id": "8bc40268-2b32-4a99-b8fc-a82202813953",
   "metadata": {},
   "outputs": [
    {
     "data": {
      "image/png": "[encoded data removed]",
      "text/plain": [
       "<Figure size 800x500 with 1 Axes>"
      ]
     },
     "metadata": {},
     "output_type": "display_data"
    }
   ],
   "source": [
    "merged = recommendations.merge(users, on='user_id')\n",
    "feedback_ctr = merged.groupby('feedback_score')['clicked'].mean().reset_index()\n",
    "plt.figure(figsize=(8,5))\n",
    "sns.lineplot(data=feedback_ctr, x='feedback_score', y='clicked', marker='o')\n",
    "plt.title('CTR vs Feedback Score')\n",
    "plt.xlabel('Feedback Score')\n",
    "plt.ylabel('Click-Through Rate')\n",
    "plt.tight_layout()\n",
    "plt.show()"
   ]
  },
  {
   "cell_type": "code",
   "execution_count": null,
   "id": "3471eabb-3ebb-4b60-9bf1-9effb94109e0",
   "metadata": {},
   "outputs": [],
   "source": []
  },
  {
   "cell_type": "code",
   "execution_count": null,
   "id": "07be37a8-eef4-491a-8342-19903258b728",
   "metadata": {},
   "outputs": [],
   "source": []
  }
 ],
 "metadata": {
  "kernelspec": {
   "display_name": "Python 3 (ipykernel)",
   "language": "python",
   "name": "python3"
  },
  "language_info": {
   "codemirror_mode": {
    "name": "ipython",
    "version": 3
   },
   "file_extension": ".py",
   "mimetype": "text/x-python",
   "name": "python",
   "nbconvert_exporter": "python",
   "pygments_lexer": "ipython3",
   "version": "3.12.4"
  }
 },
 "nbformat": 4,
 "nbformat_minor": 5
}
